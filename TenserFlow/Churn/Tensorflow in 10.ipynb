{
 "cells": [
  {
   "cell_type": "markdown",
   "metadata": {},
   "source": [
    "# 0. Import Data"
   ]
  },
  {
   "cell_type": "code",
   "execution_count": 1,
   "metadata": {},
   "outputs": [],
   "source": [
    "import pandas as pd\n",
    "from sklearn.model_selection import train_test_split"
   ]
  },
  {
   "cell_type": "code",
   "execution_count": 2,
   "metadata": {},
   "outputs": [],
   "source": [
    "df = pd.read_csv('Churn.csv')"
   ]
  },
  {
   "cell_type": "code",
   "execution_count": 4,
   "metadata": {},
   "outputs": [],
   "source": [
    "df['Total Charges'] = pd.to_numeric(df['Total Charges'], errors='coerce')\n",
    "df = df.dropna()  "
   ]
  },
  {
   "cell_type": "code",
   "execution_count": 5,
   "metadata": {},
   "outputs": [],
   "source": [
    "X = pd.get_dummies(df.drop(['Churn', 'Customer ID'], axis=1)).astype('float32')\n",
    "y = (df['Churn'] == 'Yes').astype('float32')"
   ]
  },
  {
   "cell_type": "code",
   "execution_count": 6,
   "metadata": {},
   "outputs": [],
   "source": [
    "X_train, X_test, y_train, y_test = train_test_split(X, y, test_size=.2)"
   ]
  },
  {
   "cell_type": "code",
   "execution_count": null,
   "metadata": {},
   "outputs": [
    {
     "data": {
      "text/plain": [
       "6804    0.0\n",
       "5806    0.0\n",
       "2248    0.0\n",
       "2396    0.0\n",
       "6339    0.0\n",
       "Name: Churn, dtype: float32"
      ]
     },
     "execution_count": 7,
     "metadata": {},
     "output_type": "execute_result"
    }
   ],
   "source": [
    "y_train.head()"
   ]
  },
  {
   "cell_type": "markdown",
   "metadata": {},
   "source": [
    "# 1. Import Dependencies"
   ]
  },
  {
   "cell_type": "code",
   "execution_count": 19,
   "metadata": {},
   "outputs": [],
   "source": [
    "\n",
    "from tensorflow.keras.models import Sequential, load_model\n",
    "from tensorflow.keras.layers import Dense\n",
    "from sklearn.metrics import accuracy_score\n",
    "import tensorflow as tf  "
   ]
  },
  {
   "cell_type": "markdown",
   "metadata": {},
   "source": [
    "# 2. Build and Compile Model"
   ]
  },
  {
   "cell_type": "code",
   "execution_count": 20,
   "metadata": {},
   "outputs": [
    {
     "name": "stderr",
     "output_type": "stream",
     "text": [
      "/opt/anaconda3/envs/dsbi-tf/lib/python3.10/site-packages/keras/src/layers/core/dense.py:92: UserWarning: Do not pass an `input_shape`/`input_dim` argument to a layer. When using Sequential models, prefer using an `Input(shape)` object as the first layer in the model instead.\n",
      "  super().__init__(activity_regularizer=activity_regularizer, **kwargs)\n"
     ]
    }
   ],
   "source": [
    "model = Sequential()\n",
    "model.add(Dense(units=32, activation='relu', input_dim=len(X_train.columns)))\n",
    "model.add(Dense(units=64, activation='relu'))\n",
    "model.add(Dense(units=1, activation='sigmoid'))"
   ]
  },
  {
   "cell_type": "code",
   "execution_count": null,
   "metadata": {},
   "outputs": [],
   "source": [
    "sgd = tf.keras.optimizers.SGD(\n",
    "    learning_rate = 0.15,\n",
    "    momentum = 0.9,\n",
    "    nesterov = True)\n",
    "model.compile(loss='binary_crossentropy', optimizer=sgd, metrics=['accuracy', 'AUC'])"
   ]
  },
  {
   "cell_type": "code",
   "execution_count": null,
   "metadata": {},
   "outputs": [],
   "source": [
    "sgd = tf.keras.optimizers.SGD(\n",
    "    learning_rate = 0.15,\n",
    "    momentum = 0.9,\n",
    "    nesterov = True)\n",
    "model.compile(loss='binary_crossentropy', optimizer=sgd, metrics=['accuracy', 'AUC'])"
   ]
  },
  {
   "cell_type": "code",
   "execution_count": null,
   "metadata": {},
   "outputs": [],
   "source": [
    "sgd = tf.keras.optimizers.SGD(\n",
    "    learning_rate = 0.15,\n",
    "    momentum = 0.9,\n",
    "    nesterov = True)\n",
    "model.compile(loss='binary_crossentropy', optimizer=sgd, metrics=['accuracy', 'AUC'])"
   ]
  },
  {
   "cell_type": "code",
   "execution_count": 25,
   "metadata": {},
   "outputs": [],
   "source": [
    "sgd = tf.keras.optimizers.SGD(\n",
    "    learning_rate = 0.15,\n",
    "    momentum = 0.9,\n",
    "    nesterov = True)\n",
    "model.compile(loss='binary_crossentropy', optimizer=sgd, metrics=['accuracy', 'AUC'])"
   ]
  },
  {
   "cell_type": "markdown",
   "metadata": {},
   "source": [
    "# 3. Fit, Predict and Evaluate"
   ]
  },
  {
   "cell_type": "code",
   "execution_count": 26,
   "metadata": {
    "collapsed": true
   },
   "outputs": [
    {
     "name": "stdout",
     "output_type": "stream",
     "text": [
      "Epoch 1/200\n",
      "\u001b[1m88/88\u001b[0m \u001b[32m━━━━━━━━━━━━━━━━━━━━\u001b[0m\u001b[37m\u001b[0m \u001b[1m1s\u001b[0m 540us/step - AUC: 0.4883 - accuracy: 0.7346 - loss: 0.5803 \n",
      "Epoch 2/200\n",
      "\u001b[1m88/88\u001b[0m \u001b[32m━━━━━━━━━━━━━━━━━━━━\u001b[0m\u001b[37m\u001b[0m \u001b[1m0s\u001b[0m 523us/step - AUC: 0.4846 - accuracy: 0.7346 - loss: 0.5798\n",
      "Epoch 3/200\n",
      "\u001b[1m88/88\u001b[0m \u001b[32m━━━━━━━━━━━━━━━━━━━━\u001b[0m\u001b[37m\u001b[0m \u001b[1m0s\u001b[0m 515us/step - AUC: 0.5060 - accuracy: 0.7346 - loss: 0.5799\n",
      "Epoch 4/200\n",
      "\u001b[1m88/88\u001b[0m \u001b[32m━━━━━━━━━━━━━━━━━━━━\u001b[0m\u001b[37m\u001b[0m \u001b[1m0s\u001b[0m 503us/step - AUC: 0.5018 - accuracy: 0.7346 - loss: 0.5799\n",
      "Epoch 5/200\n",
      "\u001b[1m88/88\u001b[0m \u001b[32m━━━━━━━━━━━━━━━━━━━━\u001b[0m\u001b[37m\u001b[0m \u001b[1m0s\u001b[0m 506us/step - AUC: 0.5025 - accuracy: 0.7346 - loss: 0.5804\n",
      "Epoch 6/200\n",
      "\u001b[1m88/88\u001b[0m \u001b[32m━━━━━━━━━━━━━━━━━━━━\u001b[0m\u001b[37m\u001b[0m \u001b[1m0s\u001b[0m 503us/step - AUC: 0.5042 - accuracy: 0.7346 - loss: 0.5798\n",
      "Epoch 7/200\n",
      "\u001b[1m88/88\u001b[0m \u001b[32m━━━━━━━━━━━━━━━━━━━━\u001b[0m\u001b[37m\u001b[0m \u001b[1m0s\u001b[0m 498us/step - AUC: 0.4939 - accuracy: 0.7346 - loss: 0.5797\n",
      "Epoch 8/200\n",
      "\u001b[1m88/88\u001b[0m \u001b[32m━━━━━━━━━━━━━━━━━━━━\u001b[0m\u001b[37m\u001b[0m \u001b[1m0s\u001b[0m 498us/step - AUC: 0.4875 - accuracy: 0.7346 - loss: 0.5794\n",
      "Epoch 9/200\n",
      "\u001b[1m88/88\u001b[0m \u001b[32m━━━━━━━━━━━━━━━━━━━━\u001b[0m\u001b[37m\u001b[0m \u001b[1m0s\u001b[0m 499us/step - AUC: 0.5015 - accuracy: 0.7346 - loss: 0.5791\n",
      "Epoch 10/200\n",
      "\u001b[1m88/88\u001b[0m \u001b[32m━━━━━━━━━━━━━━━━━━━━\u001b[0m\u001b[37m\u001b[0m \u001b[1m0s\u001b[0m 499us/step - AUC: 0.4921 - accuracy: 0.7346 - loss: 0.5802\n",
      "Epoch 11/200\n",
      "\u001b[1m88/88\u001b[0m \u001b[32m━━━━━━━━━━━━━━━━━━━━\u001b[0m\u001b[37m\u001b[0m \u001b[1m0s\u001b[0m 506us/step - AUC: 0.4835 - accuracy: 0.7346 - loss: 0.5795\n",
      "Epoch 12/200\n",
      "\u001b[1m88/88\u001b[0m \u001b[32m━━━━━━━━━━━━━━━━━━━━\u001b[0m\u001b[37m\u001b[0m \u001b[1m0s\u001b[0m 496us/step - AUC: 0.4981 - accuracy: 0.7346 - loss: 0.5800\n",
      "Epoch 13/200\n",
      "\u001b[1m88/88\u001b[0m \u001b[32m━━━━━━━━━━━━━━━━━━━━\u001b[0m\u001b[37m\u001b[0m \u001b[1m0s\u001b[0m 500us/step - AUC: 0.4927 - accuracy: 0.7346 - loss: 0.5799\n",
      "Epoch 14/200\n",
      "\u001b[1m88/88\u001b[0m \u001b[32m━━━━━━━━━━━━━━━━━━━━\u001b[0m\u001b[37m\u001b[0m \u001b[1m0s\u001b[0m 494us/step - AUC: 0.4782 - accuracy: 0.7346 - loss: 0.5800\n",
      "Epoch 15/200\n",
      "\u001b[1m88/88\u001b[0m \u001b[32m━━━━━━━━━━━━━━━━━━━━\u001b[0m\u001b[37m\u001b[0m \u001b[1m0s\u001b[0m 504us/step - AUC: 0.4862 - accuracy: 0.7346 - loss: 0.5798\n",
      "Epoch 16/200\n",
      "\u001b[1m88/88\u001b[0m \u001b[32m━━━━━━━━━━━━━━━━━━━━\u001b[0m\u001b[37m\u001b[0m \u001b[1m0s\u001b[0m 494us/step - AUC: 0.4997 - accuracy: 0.7346 - loss: 0.5793\n",
      "Epoch 17/200\n",
      "\u001b[1m88/88\u001b[0m \u001b[32m━━━━━━━━━━━━━━━━━━━━\u001b[0m\u001b[37m\u001b[0m \u001b[1m0s\u001b[0m 502us/step - AUC: 0.4737 - accuracy: 0.7346 - loss: 0.5799\n",
      "Epoch 18/200\n",
      "\u001b[1m88/88\u001b[0m \u001b[32m━━━━━━━━━━━━━━━━━━━━\u001b[0m\u001b[37m\u001b[0m \u001b[1m0s\u001b[0m 491us/step - AUC: 0.5000 - accuracy: 0.7346 - loss: 0.5800\n",
      "Epoch 19/200\n",
      "\u001b[1m88/88\u001b[0m \u001b[32m━━━━━━━━━━━━━━━━━━━━\u001b[0m\u001b[37m\u001b[0m \u001b[1m0s\u001b[0m 574us/step - AUC: 0.5106 - accuracy: 0.7346 - loss: 0.5794\n",
      "Epoch 20/200\n",
      "\u001b[1m88/88\u001b[0m \u001b[32m━━━━━━━━━━━━━━━━━━━━\u001b[0m\u001b[37m\u001b[0m \u001b[1m0s\u001b[0m 491us/step - AUC: 0.4844 - accuracy: 0.7346 - loss: 0.5796\n",
      "Epoch 21/200\n",
      "\u001b[1m88/88\u001b[0m \u001b[32m━━━━━━━━━━━━━━━━━━━━\u001b[0m\u001b[37m\u001b[0m \u001b[1m0s\u001b[0m 493us/step - AUC: 0.5005 - accuracy: 0.7346 - loss: 0.5798\n",
      "Epoch 22/200\n",
      "\u001b[1m88/88\u001b[0m \u001b[32m━━━━━━━━━━━━━━━━━━━━\u001b[0m\u001b[37m\u001b[0m \u001b[1m0s\u001b[0m 497us/step - AUC: 0.4971 - accuracy: 0.7346 - loss: 0.5799\n",
      "Epoch 23/200\n",
      "\u001b[1m88/88\u001b[0m \u001b[32m━━━━━━━━━━━━━━━━━━━━\u001b[0m\u001b[37m\u001b[0m \u001b[1m0s\u001b[0m 500us/step - AUC: 0.4925 - accuracy: 0.7346 - loss: 0.5793\n",
      "Epoch 24/200\n",
      "\u001b[1m88/88\u001b[0m \u001b[32m━━━━━━━━━━━━━━━━━━━━\u001b[0m\u001b[37m\u001b[0m \u001b[1m0s\u001b[0m 498us/step - AUC: 0.4963 - accuracy: 0.7346 - loss: 0.5793\n",
      "Epoch 25/200\n",
      "\u001b[1m88/88\u001b[0m \u001b[32m━━━━━━━━━━━━━━━━━━━━\u001b[0m\u001b[37m\u001b[0m \u001b[1m0s\u001b[0m 494us/step - AUC: 0.5014 - accuracy: 0.7346 - loss: 0.5790\n",
      "Epoch 26/200\n",
      "\u001b[1m88/88\u001b[0m \u001b[32m━━━━━━━━━━━━━━━━━━━━\u001b[0m\u001b[37m\u001b[0m \u001b[1m0s\u001b[0m 498us/step - AUC: 0.5084 - accuracy: 0.7346 - loss: 0.5790\n",
      "Epoch 27/200\n",
      "\u001b[1m88/88\u001b[0m \u001b[32m━━━━━━━━━━━━━━━━━━━━\u001b[0m\u001b[37m\u001b[0m \u001b[1m0s\u001b[0m 494us/step - AUC: 0.4935 - accuracy: 0.7346 - loss: 0.5796\n",
      "Epoch 28/200\n",
      "\u001b[1m88/88\u001b[0m \u001b[32m━━━━━━━━━━━━━━━━━━━━\u001b[0m\u001b[37m\u001b[0m \u001b[1m0s\u001b[0m 500us/step - AUC: 0.4916 - accuracy: 0.7346 - loss: 0.5793\n",
      "Epoch 29/200\n",
      "\u001b[1m88/88\u001b[0m \u001b[32m━━━━━━━━━━━━━━━━━━━━\u001b[0m\u001b[37m\u001b[0m \u001b[1m0s\u001b[0m 497us/step - AUC: 0.5011 - accuracy: 0.7346 - loss: 0.5794\n",
      "Epoch 30/200\n",
      "\u001b[1m88/88\u001b[0m \u001b[32m━━━━━━━━━━━━━━━━━━━━\u001b[0m\u001b[37m\u001b[0m \u001b[1m0s\u001b[0m 495us/step - AUC: 0.4973 - accuracy: 0.7346 - loss: 0.5796\n",
      "Epoch 31/200\n",
      "\u001b[1m88/88\u001b[0m \u001b[32m━━━━━━━━━━━━━━━━━━━━\u001b[0m\u001b[37m\u001b[0m \u001b[1m0s\u001b[0m 497us/step - AUC: 0.5062 - accuracy: 0.7346 - loss: 0.5791\n",
      "Epoch 32/200\n",
      "\u001b[1m88/88\u001b[0m \u001b[32m━━━━━━━━━━━━━━━━━━━━\u001b[0m\u001b[37m\u001b[0m \u001b[1m0s\u001b[0m 491us/step - AUC: 0.4883 - accuracy: 0.7346 - loss: 0.5798\n",
      "Epoch 33/200\n",
      "\u001b[1m88/88\u001b[0m \u001b[32m━━━━━━━━━━━━━━━━━━━━\u001b[0m\u001b[37m\u001b[0m \u001b[1m0s\u001b[0m 490us/step - AUC: 0.4903 - accuracy: 0.7346 - loss: 0.5797\n",
      "Epoch 34/200\n",
      "\u001b[1m88/88\u001b[0m \u001b[32m━━━━━━━━━━━━━━━━━━━━\u001b[0m\u001b[37m\u001b[0m \u001b[1m0s\u001b[0m 497us/step - AUC: 0.4931 - accuracy: 0.7346 - loss: 0.5793\n",
      "Epoch 35/200\n",
      "\u001b[1m88/88\u001b[0m \u001b[32m━━━━━━━━━━━━━━━━━━━━\u001b[0m\u001b[37m\u001b[0m \u001b[1m0s\u001b[0m 496us/step - AUC: 0.5012 - accuracy: 0.7346 - loss: 0.5794\n",
      "Epoch 36/200\n",
      "\u001b[1m88/88\u001b[0m \u001b[32m━━━━━━━━━━━━━━━━━━━━\u001b[0m\u001b[37m\u001b[0m \u001b[1m0s\u001b[0m 496us/step - AUC: 0.5059 - accuracy: 0.7346 - loss: 0.5807\n",
      "Epoch 37/200\n",
      "\u001b[1m88/88\u001b[0m \u001b[32m━━━━━━━━━━━━━━━━━━━━\u001b[0m\u001b[37m\u001b[0m \u001b[1m0s\u001b[0m 517us/step - AUC: 0.4957 - accuracy: 0.7346 - loss: 0.5795\n",
      "Epoch 38/200\n",
      "\u001b[1m88/88\u001b[0m \u001b[32m━━━━━━━━━━━━━━━━━━━━\u001b[0m\u001b[37m\u001b[0m \u001b[1m0s\u001b[0m 507us/step - AUC: 0.4935 - accuracy: 0.7346 - loss: 0.5797\n",
      "Epoch 39/200\n",
      "\u001b[1m88/88\u001b[0m \u001b[32m━━━━━━━━━━━━━━━━━━━━\u001b[0m\u001b[37m\u001b[0m \u001b[1m0s\u001b[0m 503us/step - AUC: 0.4862 - accuracy: 0.7346 - loss: 0.5794\n",
      "Epoch 40/200\n",
      "\u001b[1m88/88\u001b[0m \u001b[32m━━━━━━━━━━━━━━━━━━━━\u001b[0m\u001b[37m\u001b[0m \u001b[1m0s\u001b[0m 494us/step - AUC: 0.5030 - accuracy: 0.7346 - loss: 0.5794\n",
      "Epoch 41/200\n",
      "\u001b[1m88/88\u001b[0m \u001b[32m━━━━━━━━━━━━━━━━━━━━\u001b[0m\u001b[37m\u001b[0m \u001b[1m0s\u001b[0m 494us/step - AUC: 0.5001 - accuracy: 0.7346 - loss: 0.5794\n",
      "Epoch 42/200\n",
      "\u001b[1m88/88\u001b[0m \u001b[32m━━━━━━━━━━━━━━━━━━━━\u001b[0m\u001b[37m\u001b[0m \u001b[1m0s\u001b[0m 536us/step - AUC: 0.4953 - accuracy: 0.7346 - loss: 0.5796\n",
      "Epoch 43/200\n",
      "\u001b[1m88/88\u001b[0m \u001b[32m━━━━━━━━━━━━━━━━━━━━\u001b[0m\u001b[37m\u001b[0m \u001b[1m0s\u001b[0m 501us/step - AUC: 0.4990 - accuracy: 0.7346 - loss: 0.5800\n",
      "Epoch 44/200\n",
      "\u001b[1m88/88\u001b[0m \u001b[32m━━━━━━━━━━━━━━━━━━━━\u001b[0m\u001b[37m\u001b[0m \u001b[1m0s\u001b[0m 493us/step - AUC: 0.5015 - accuracy: 0.7346 - loss: 0.5806\n",
      "Epoch 45/200\n",
      "\u001b[1m88/88\u001b[0m \u001b[32m━━━━━━━━━━━━━━━━━━━━\u001b[0m\u001b[37m\u001b[0m \u001b[1m0s\u001b[0m 496us/step - AUC: 0.4997 - accuracy: 0.7346 - loss: 0.5795\n",
      "Epoch 46/200\n",
      "\u001b[1m88/88\u001b[0m \u001b[32m━━━━━━━━━━━━━━━━━━━━\u001b[0m\u001b[37m\u001b[0m \u001b[1m0s\u001b[0m 496us/step - AUC: 0.4926 - accuracy: 0.7346 - loss: 0.5799\n",
      "Epoch 47/200\n",
      "\u001b[1m88/88\u001b[0m \u001b[32m━━━━━━━━━━━━━━━━━━━━\u001b[0m\u001b[37m\u001b[0m \u001b[1m0s\u001b[0m 494us/step - AUC: 0.4922 - accuracy: 0.7346 - loss: 0.5798\n",
      "Epoch 48/200\n",
      "\u001b[1m88/88\u001b[0m \u001b[32m━━━━━━━━━━━━━━━━━━━━\u001b[0m\u001b[37m\u001b[0m \u001b[1m0s\u001b[0m 492us/step - AUC: 0.4824 - accuracy: 0.7346 - loss: 0.5793\n",
      "Epoch 49/200\n",
      "\u001b[1m88/88\u001b[0m \u001b[32m━━━━━━━━━━━━━━━━━━━━\u001b[0m\u001b[37m\u001b[0m \u001b[1m0s\u001b[0m 493us/step - AUC: 0.5039 - accuracy: 0.7346 - loss: 0.5794\n",
      "Epoch 50/200\n",
      "\u001b[1m88/88\u001b[0m \u001b[32m━━━━━━━━━━━━━━━━━━━━\u001b[0m\u001b[37m\u001b[0m \u001b[1m0s\u001b[0m 492us/step - AUC: 0.5142 - accuracy: 0.7346 - loss: 0.5790\n",
      "Epoch 51/200\n",
      "\u001b[1m88/88\u001b[0m \u001b[32m━━━━━━━━━━━━━━━━━━━━\u001b[0m\u001b[37m\u001b[0m \u001b[1m0s\u001b[0m 508us/step - AUC: 0.4948 - accuracy: 0.7346 - loss: 0.5796\n",
      "Epoch 52/200\n",
      "\u001b[1m88/88\u001b[0m \u001b[32m━━━━━━━━━━━━━━━━━━━━\u001b[0m\u001b[37m\u001b[0m \u001b[1m0s\u001b[0m 491us/step - AUC: 0.5039 - accuracy: 0.7346 - loss: 0.5796\n",
      "Epoch 53/200\n",
      "\u001b[1m88/88\u001b[0m \u001b[32m━━━━━━━━━━━━━━━━━━━━\u001b[0m\u001b[37m\u001b[0m \u001b[1m0s\u001b[0m 496us/step - AUC: 0.4932 - accuracy: 0.7346 - loss: 0.5797\n",
      "Epoch 54/200\n",
      "\u001b[1m88/88\u001b[0m \u001b[32m━━━━━━━━━━━━━━━━━━━━\u001b[0m\u001b[37m\u001b[0m \u001b[1m0s\u001b[0m 488us/step - AUC: 0.4927 - accuracy: 0.7346 - loss: 0.5793\n",
      "Epoch 55/200\n",
      "\u001b[1m88/88\u001b[0m \u001b[32m━━━━━━━━━━━━━━━━━━━━\u001b[0m\u001b[37m\u001b[0m \u001b[1m0s\u001b[0m 490us/step - AUC: 0.5119 - accuracy: 0.7346 - loss: 0.5788\n",
      "Epoch 56/200\n",
      "\u001b[1m88/88\u001b[0m \u001b[32m━━━━━━━━━━━━━━━━━━━━\u001b[0m\u001b[37m\u001b[0m \u001b[1m0s\u001b[0m 493us/step - AUC: 0.4965 - accuracy: 0.7346 - loss: 0.5794\n",
      "Epoch 57/200\n",
      "\u001b[1m88/88\u001b[0m \u001b[32m━━━━━━━━━━━━━━━━━━━━\u001b[0m\u001b[37m\u001b[0m \u001b[1m0s\u001b[0m 501us/step - AUC: 0.4817 - accuracy: 0.7346 - loss: 0.5794\n",
      "Epoch 58/200\n",
      "\u001b[1m88/88\u001b[0m \u001b[32m━━━━━━━━━━━━━━━━━━━━\u001b[0m\u001b[37m\u001b[0m \u001b[1m0s\u001b[0m 491us/step - AUC: 0.4922 - accuracy: 0.7346 - loss: 0.5802\n",
      "Epoch 59/200\n",
      "\u001b[1m88/88\u001b[0m \u001b[32m━━━━━━━━━━━━━━━━━━━━\u001b[0m\u001b[37m\u001b[0m \u001b[1m0s\u001b[0m 496us/step - AUC: 0.4930 - accuracy: 0.7346 - loss: 0.5796\n",
      "Epoch 60/200\n",
      "\u001b[1m88/88\u001b[0m \u001b[32m━━━━━━━━━━━━━━━━━━━━\u001b[0m\u001b[37m\u001b[0m \u001b[1m0s\u001b[0m 489us/step - AUC: 0.4931 - accuracy: 0.7346 - loss: 0.5797\n",
      "Epoch 61/200\n",
      "\u001b[1m88/88\u001b[0m \u001b[32m━━━━━━━━━━━━━━━━━━━━\u001b[0m\u001b[37m\u001b[0m \u001b[1m0s\u001b[0m 552us/step - AUC: 0.4802 - accuracy: 0.7346 - loss: 0.5801\n",
      "Epoch 62/200\n",
      "\u001b[1m88/88\u001b[0m \u001b[32m━━━━━━━━━━━━━━━━━━━━\u001b[0m\u001b[37m\u001b[0m \u001b[1m0s\u001b[0m 497us/step - AUC: 0.4842 - accuracy: 0.7346 - loss: 0.5804\n",
      "Epoch 63/200\n",
      "\u001b[1m88/88\u001b[0m \u001b[32m━━━━━━━━━━━━━━━━━━━━\u001b[0m\u001b[37m\u001b[0m \u001b[1m0s\u001b[0m 493us/step - AUC: 0.4947 - accuracy: 0.7346 - loss: 0.5795\n",
      "Epoch 64/200\n",
      "\u001b[1m88/88\u001b[0m \u001b[32m━━━━━━━━━━━━━━━━━━━━\u001b[0m\u001b[37m\u001b[0m \u001b[1m0s\u001b[0m 495us/step - AUC: 0.4842 - accuracy: 0.7346 - loss: 0.5800\n",
      "Epoch 65/200\n",
      "\u001b[1m88/88\u001b[0m \u001b[32m━━━━━━━━━━━━━━━━━━━━\u001b[0m\u001b[37m\u001b[0m \u001b[1m0s\u001b[0m 496us/step - AUC: 0.4953 - accuracy: 0.7346 - loss: 0.5800\n",
      "Epoch 66/200\n",
      "\u001b[1m88/88\u001b[0m \u001b[32m━━━━━━━━━━━━━━━━━━━━\u001b[0m\u001b[37m\u001b[0m \u001b[1m0s\u001b[0m 545us/step - AUC: 0.4908 - accuracy: 0.7346 - loss: 0.5795\n",
      "Epoch 67/200\n",
      "\u001b[1m88/88\u001b[0m \u001b[32m━━━━━━━━━━━━━━━━━━━━\u001b[0m\u001b[37m\u001b[0m \u001b[1m0s\u001b[0m 496us/step - AUC: 0.4967 - accuracy: 0.7346 - loss: 0.5793\n",
      "Epoch 68/200\n",
      "\u001b[1m88/88\u001b[0m \u001b[32m━━━━━━━━━━━━━━━━━━━━\u001b[0m\u001b[37m\u001b[0m \u001b[1m0s\u001b[0m 492us/step - AUC: 0.4863 - accuracy: 0.7346 - loss: 0.5797\n",
      "Epoch 69/200\n",
      "\u001b[1m88/88\u001b[0m \u001b[32m━━━━━━━━━━━━━━━━━━━━\u001b[0m\u001b[37m\u001b[0m \u001b[1m0s\u001b[0m 502us/step - AUC: 0.5026 - accuracy: 0.7346 - loss: 0.5790\n",
      "Epoch 70/200\n",
      "\u001b[1m88/88\u001b[0m \u001b[32m━━━━━━━━━━━━━━━━━━━━\u001b[0m\u001b[37m\u001b[0m \u001b[1m0s\u001b[0m 497us/step - AUC: 0.5052 - accuracy: 0.7346 - loss: 0.5800\n",
      "Epoch 71/200\n",
      "\u001b[1m88/88\u001b[0m \u001b[32m━━━━━━━━━━━━━━━━━━━━\u001b[0m\u001b[37m\u001b[0m \u001b[1m0s\u001b[0m 502us/step - AUC: 0.5102 - accuracy: 0.7346 - loss: 0.5792\n",
      "Epoch 72/200\n",
      "\u001b[1m88/88\u001b[0m \u001b[32m━━━━━━━━━━━━━━━━━━━━\u001b[0m\u001b[37m\u001b[0m \u001b[1m0s\u001b[0m 492us/step - AUC: 0.4969 - accuracy: 0.7346 - loss: 0.5798\n",
      "Epoch 73/200\n",
      "\u001b[1m88/88\u001b[0m \u001b[32m━━━━━━━━━━━━━━━━━━━━\u001b[0m\u001b[37m\u001b[0m \u001b[1m0s\u001b[0m 490us/step - AUC: 0.4922 - accuracy: 0.7346 - loss: 0.5795\n",
      "Epoch 74/200\n",
      "\u001b[1m88/88\u001b[0m \u001b[32m━━━━━━━━━━━━━━━━━━━━\u001b[0m\u001b[37m\u001b[0m \u001b[1m0s\u001b[0m 489us/step - AUC: 0.4761 - accuracy: 0.7346 - loss: 0.5798\n",
      "Epoch 75/200\n",
      "\u001b[1m88/88\u001b[0m \u001b[32m━━━━━━━━━━━━━━━━━━━━\u001b[0m\u001b[37m\u001b[0m \u001b[1m0s\u001b[0m 495us/step - AUC: 0.4751 - accuracy: 0.7346 - loss: 0.5801\n",
      "Epoch 76/200\n",
      "\u001b[1m88/88\u001b[0m \u001b[32m━━━━━━━━━━━━━━━━━━━━\u001b[0m\u001b[37m\u001b[0m \u001b[1m0s\u001b[0m 502us/step - AUC: 0.5043 - accuracy: 0.7346 - loss: 0.5794\n",
      "Epoch 77/200\n",
      "\u001b[1m88/88\u001b[0m \u001b[32m━━━━━━━━━━━━━━━━━━━━\u001b[0m\u001b[37m\u001b[0m \u001b[1m0s\u001b[0m 493us/step - AUC: 0.4970 - accuracy: 0.7346 - loss: 0.5799\n",
      "Epoch 78/200\n",
      "\u001b[1m88/88\u001b[0m \u001b[32m━━━━━━━━━━━━━━━━━━━━\u001b[0m\u001b[37m\u001b[0m \u001b[1m0s\u001b[0m 497us/step - AUC: 0.4943 - accuracy: 0.7346 - loss: 0.5794\n",
      "Epoch 79/200\n",
      "\u001b[1m88/88\u001b[0m \u001b[32m━━━━━━━━━━━━━━━━━━━━\u001b[0m\u001b[37m\u001b[0m \u001b[1m0s\u001b[0m 492us/step - AUC: 0.4894 - accuracy: 0.7346 - loss: 0.5801\n",
      "Epoch 80/200\n",
      "\u001b[1m88/88\u001b[0m \u001b[32m━━━━━━━━━━━━━━━━━━━━\u001b[0m\u001b[37m\u001b[0m \u001b[1m0s\u001b[0m 498us/step - AUC: 0.5076 - accuracy: 0.7346 - loss: 0.5793\n",
      "Epoch 81/200\n",
      "\u001b[1m88/88\u001b[0m \u001b[32m━━━━━━━━━━━━━━━━━━━━\u001b[0m\u001b[37m\u001b[0m \u001b[1m0s\u001b[0m 502us/step - AUC: 0.4981 - accuracy: 0.7346 - loss: 0.5802\n",
      "Epoch 82/200\n",
      "\u001b[1m88/88\u001b[0m \u001b[32m━━━━━━━━━━━━━━━━━━━━\u001b[0m\u001b[37m\u001b[0m \u001b[1m0s\u001b[0m 492us/step - AUC: 0.4936 - accuracy: 0.7346 - loss: 0.5795\n",
      "Epoch 83/200\n",
      "\u001b[1m88/88\u001b[0m \u001b[32m━━━━━━━━━━━━━━━━━━━━\u001b[0m\u001b[37m\u001b[0m \u001b[1m0s\u001b[0m 496us/step - AUC: 0.5075 - accuracy: 0.7346 - loss: 0.5794\n",
      "Epoch 84/200\n",
      "\u001b[1m88/88\u001b[0m \u001b[32m━━━━━━━━━━━━━━━━━━━━\u001b[0m\u001b[37m\u001b[0m \u001b[1m0s\u001b[0m 492us/step - AUC: 0.4927 - accuracy: 0.7346 - loss: 0.5814\n",
      "Epoch 85/200\n",
      "\u001b[1m88/88\u001b[0m \u001b[32m━━━━━━━━━━━━━━━━━━━━\u001b[0m\u001b[37m\u001b[0m \u001b[1m0s\u001b[0m 495us/step - AUC: 0.5040 - accuracy: 0.7346 - loss: 0.5791\n",
      "Epoch 86/200\n",
      "\u001b[1m88/88\u001b[0m \u001b[32m━━━━━━━━━━━━━━━━━━━━\u001b[0m\u001b[37m\u001b[0m \u001b[1m0s\u001b[0m 494us/step - AUC: 0.5070 - accuracy: 0.7346 - loss: 0.5789\n",
      "Epoch 87/200\n",
      "\u001b[1m88/88\u001b[0m \u001b[32m━━━━━━━━━━━━━━━━━━━━\u001b[0m\u001b[37m\u001b[0m \u001b[1m0s\u001b[0m 493us/step - AUC: 0.4864 - accuracy: 0.7346 - loss: 0.5802\n",
      "Epoch 88/200\n",
      "\u001b[1m88/88\u001b[0m \u001b[32m━━━━━━━━━━━━━━━━━━━━\u001b[0m\u001b[37m\u001b[0m \u001b[1m0s\u001b[0m 491us/step - AUC: 0.4835 - accuracy: 0.7346 - loss: 0.5795\n",
      "Epoch 89/200\n",
      "\u001b[1m88/88\u001b[0m \u001b[32m━━━━━━━━━━━━━━━━━━━━\u001b[0m\u001b[37m\u001b[0m \u001b[1m0s\u001b[0m 494us/step - AUC: 0.5019 - accuracy: 0.7346 - loss: 0.5803\n",
      "Epoch 90/200\n",
      "\u001b[1m88/88\u001b[0m \u001b[32m━━━━━━━━━━━━━━━━━━━━\u001b[0m\u001b[37m\u001b[0m \u001b[1m0s\u001b[0m 491us/step - AUC: 0.4891 - accuracy: 0.7346 - loss: 0.5794\n",
      "Epoch 91/200\n",
      "\u001b[1m88/88\u001b[0m \u001b[32m━━━━━━━━━━━━━━━━━━━━\u001b[0m\u001b[37m\u001b[0m \u001b[1m0s\u001b[0m 545us/step - AUC: 0.4973 - accuracy: 0.7346 - loss: 0.5793\n",
      "Epoch 92/200\n",
      "\u001b[1m88/88\u001b[0m \u001b[32m━━━━━━━━━━━━━━━━━━━━\u001b[0m\u001b[37m\u001b[0m \u001b[1m0s\u001b[0m 501us/step - AUC: 0.4779 - accuracy: 0.7346 - loss: 0.5797\n",
      "Epoch 93/200\n",
      "\u001b[1m88/88\u001b[0m \u001b[32m━━━━━━━━━━━━━━━━━━━━\u001b[0m\u001b[37m\u001b[0m \u001b[1m0s\u001b[0m 500us/step - AUC: 0.4962 - accuracy: 0.7346 - loss: 0.5797\n",
      "Epoch 94/200\n",
      "\u001b[1m88/88\u001b[0m \u001b[32m━━━━━━━━━━━━━━━━━━━━\u001b[0m\u001b[37m\u001b[0m \u001b[1m0s\u001b[0m 493us/step - AUC: 0.4811 - accuracy: 0.7346 - loss: 0.5804\n",
      "Epoch 95/200\n",
      "\u001b[1m88/88\u001b[0m \u001b[32m━━━━━━━━━━━━━━━━━━━━\u001b[0m\u001b[37m\u001b[0m \u001b[1m0s\u001b[0m 494us/step - AUC: 0.5095 - accuracy: 0.7346 - loss: 0.5790\n",
      "Epoch 96/200\n",
      "\u001b[1m88/88\u001b[0m \u001b[32m━━━━━━━━━━━━━━━━━━━━\u001b[0m\u001b[37m\u001b[0m \u001b[1m0s\u001b[0m 494us/step - AUC: 0.4977 - accuracy: 0.7346 - loss: 0.5804\n",
      "Epoch 97/200\n",
      "\u001b[1m88/88\u001b[0m \u001b[32m━━━━━━━━━━━━━━━━━━━━\u001b[0m\u001b[37m\u001b[0m \u001b[1m0s\u001b[0m 491us/step - AUC: 0.5100 - accuracy: 0.7346 - loss: 0.5786\n",
      "Epoch 98/200\n",
      "\u001b[1m88/88\u001b[0m \u001b[32m━━━━━━━━━━━━━━━━━━━━\u001b[0m\u001b[37m\u001b[0m \u001b[1m0s\u001b[0m 501us/step - AUC: 0.5007 - accuracy: 0.7346 - loss: 0.5803\n",
      "Epoch 99/200\n",
      "\u001b[1m88/88\u001b[0m \u001b[32m━━━━━━━━━━━━━━━━━━━━\u001b[0m\u001b[37m\u001b[0m \u001b[1m0s\u001b[0m 493us/step - AUC: 0.5156 - accuracy: 0.7346 - loss: 0.5786\n",
      "Epoch 100/200\n",
      "\u001b[1m88/88\u001b[0m \u001b[32m━━━━━━━━━━━━━━━━━━━━\u001b[0m\u001b[37m\u001b[0m \u001b[1m0s\u001b[0m 497us/step - AUC: 0.4911 - accuracy: 0.7346 - loss: 0.5798\n",
      "Epoch 101/200\n",
      "\u001b[1m88/88\u001b[0m \u001b[32m━━━━━━━━━━━━━━━━━━━━\u001b[0m\u001b[37m\u001b[0m \u001b[1m0s\u001b[0m 493us/step - AUC: 0.5039 - accuracy: 0.7346 - loss: 0.5793\n",
      "Epoch 102/200\n",
      "\u001b[1m88/88\u001b[0m \u001b[32m━━━━━━━━━━━━━━━━━━━━\u001b[0m\u001b[37m\u001b[0m \u001b[1m0s\u001b[0m 493us/step - AUC: 0.4962 - accuracy: 0.7346 - loss: 0.5794\n",
      "Epoch 103/200\n",
      "\u001b[1m88/88\u001b[0m \u001b[32m━━━━━━━━━━━━━━━━━━━━\u001b[0m\u001b[37m\u001b[0m \u001b[1m0s\u001b[0m 500us/step - AUC: 0.5002 - accuracy: 0.7346 - loss: 0.5794\n",
      "Epoch 104/200\n",
      "\u001b[1m88/88\u001b[0m \u001b[32m━━━━━━━━━━━━━━━━━━━━\u001b[0m\u001b[37m\u001b[0m \u001b[1m0s\u001b[0m 498us/step - AUC: 0.5025 - accuracy: 0.7346 - loss: 0.5796\n",
      "Epoch 105/200\n",
      "\u001b[1m88/88\u001b[0m \u001b[32m━━━━━━━━━━━━━━━━━━━━\u001b[0m\u001b[37m\u001b[0m \u001b[1m0s\u001b[0m 498us/step - AUC: 0.4836 - accuracy: 0.7346 - loss: 0.5806\n",
      "Epoch 106/200\n",
      "\u001b[1m88/88\u001b[0m \u001b[32m━━━━━━━━━━━━━━━━━━━━\u001b[0m\u001b[37m\u001b[0m \u001b[1m0s\u001b[0m 494us/step - AUC: 0.5013 - accuracy: 0.7346 - loss: 0.5793\n",
      "Epoch 107/200\n",
      "\u001b[1m88/88\u001b[0m \u001b[32m━━━━━━━━━━━━━━━━━━━━\u001b[0m\u001b[37m\u001b[0m \u001b[1m0s\u001b[0m 496us/step - AUC: 0.4892 - accuracy: 0.7346 - loss: 0.5793\n",
      "Epoch 108/200\n",
      "\u001b[1m88/88\u001b[0m \u001b[32m━━━━━━━━━━━━━━━━━━━━\u001b[0m\u001b[37m\u001b[0m \u001b[1m0s\u001b[0m 495us/step - AUC: 0.5042 - accuracy: 0.7346 - loss: 0.5792\n",
      "Epoch 109/200\n",
      "\u001b[1m88/88\u001b[0m \u001b[32m━━━━━━━━━━━━━━━━━━━━\u001b[0m\u001b[37m\u001b[0m \u001b[1m0s\u001b[0m 489us/step - AUC: 0.5128 - accuracy: 0.7346 - loss: 0.5793\n",
      "Epoch 110/200\n",
      "\u001b[1m88/88\u001b[0m \u001b[32m━━━━━━━━━━━━━━━━━━━━\u001b[0m\u001b[37m\u001b[0m \u001b[1m0s\u001b[0m 498us/step - AUC: 0.4914 - accuracy: 0.7346 - loss: 0.5802\n",
      "Epoch 111/200\n",
      "\u001b[1m88/88\u001b[0m \u001b[32m━━━━━━━━━━━━━━━━━━━━\u001b[0m\u001b[37m\u001b[0m \u001b[1m0s\u001b[0m 498us/step - AUC: 0.4983 - accuracy: 0.7346 - loss: 0.5792\n",
      "Epoch 112/200\n",
      "\u001b[1m88/88\u001b[0m \u001b[32m━━━━━━━━━━━━━━━━━━━━\u001b[0m\u001b[37m\u001b[0m \u001b[1m0s\u001b[0m 503us/step - AUC: 0.4938 - accuracy: 0.7346 - loss: 0.5797\n",
      "Epoch 113/200\n",
      "\u001b[1m88/88\u001b[0m \u001b[32m━━━━━━━━━━━━━━━━━━━━\u001b[0m\u001b[37m\u001b[0m \u001b[1m0s\u001b[0m 492us/step - AUC: 0.4959 - accuracy: 0.7346 - loss: 0.5796\n",
      "Epoch 114/200\n",
      "\u001b[1m88/88\u001b[0m \u001b[32m━━━━━━━━━━━━━━━━━━━━\u001b[0m\u001b[37m\u001b[0m \u001b[1m0s\u001b[0m 498us/step - AUC: 0.4998 - accuracy: 0.7346 - loss: 0.5794\n",
      "Epoch 115/200\n",
      "\u001b[1m88/88\u001b[0m \u001b[32m━━━━━━━━━━━━━━━━━━━━\u001b[0m\u001b[37m\u001b[0m \u001b[1m0s\u001b[0m 551us/step - AUC: 0.4917 - accuracy: 0.7346 - loss: 0.5796\n",
      "Epoch 116/200\n",
      "\u001b[1m88/88\u001b[0m \u001b[32m━━━━━━━━━━━━━━━━━━━━\u001b[0m\u001b[37m\u001b[0m \u001b[1m0s\u001b[0m 511us/step - AUC: 0.5015 - accuracy: 0.7346 - loss: 0.5792\n",
      "Epoch 117/200\n",
      "\u001b[1m88/88\u001b[0m \u001b[32m━━━━━━━━━━━━━━━━━━━━\u001b[0m\u001b[37m\u001b[0m \u001b[1m0s\u001b[0m 503us/step - AUC: 0.4920 - accuracy: 0.7346 - loss: 0.5797\n",
      "Epoch 118/200\n",
      "\u001b[1m88/88\u001b[0m \u001b[32m━━━━━━━━━━━━━━━━━━━━\u001b[0m\u001b[37m\u001b[0m \u001b[1m0s\u001b[0m 493us/step - AUC: 0.4945 - accuracy: 0.7346 - loss: 0.5796\n",
      "Epoch 119/200\n",
      "\u001b[1m88/88\u001b[0m \u001b[32m━━━━━━━━━━━━━━━━━━━━\u001b[0m\u001b[37m\u001b[0m \u001b[1m0s\u001b[0m 833us/step - AUC: 0.4873 - accuracy: 0.7346 - loss: 0.5799\n",
      "Epoch 120/200\n",
      "\u001b[1m88/88\u001b[0m \u001b[32m━━━━━━━━━━━━━━━━━━━━\u001b[0m\u001b[37m\u001b[0m \u001b[1m0s\u001b[0m 491us/step - AUC: 0.4959 - accuracy: 0.7346 - loss: 0.5799\n",
      "Epoch 121/200\n",
      "\u001b[1m88/88\u001b[0m \u001b[32m━━━━━━━━━━━━━━━━━━━━\u001b[0m\u001b[37m\u001b[0m \u001b[1m0s\u001b[0m 500us/step - AUC: 0.4882 - accuracy: 0.7346 - loss: 0.5806\n",
      "Epoch 122/200\n",
      "\u001b[1m88/88\u001b[0m \u001b[32m━━━━━━━━━━━━━━━━━━━━\u001b[0m\u001b[37m\u001b[0m \u001b[1m0s\u001b[0m 502us/step - AUC: 0.5026 - accuracy: 0.7346 - loss: 0.5792\n",
      "Epoch 123/200\n",
      "\u001b[1m88/88\u001b[0m \u001b[32m━━━━━━━━━━━━━━━━━━━━\u001b[0m\u001b[37m\u001b[0m \u001b[1m0s\u001b[0m 498us/step - AUC: 0.4991 - accuracy: 0.7346 - loss: 0.5796\n",
      "Epoch 124/200\n",
      "\u001b[1m88/88\u001b[0m \u001b[32m━━━━━━━━━━━━━━━━━━━━\u001b[0m\u001b[37m\u001b[0m \u001b[1m0s\u001b[0m 492us/step - AUC: 0.5061 - accuracy: 0.7346 - loss: 0.5799\n",
      "Epoch 125/200\n",
      "\u001b[1m88/88\u001b[0m \u001b[32m━━━━━━━━━━━━━━━━━━━━\u001b[0m\u001b[37m\u001b[0m \u001b[1m0s\u001b[0m 498us/step - AUC: 0.4989 - accuracy: 0.7346 - loss: 0.5793\n",
      "Epoch 126/200\n",
      "\u001b[1m88/88\u001b[0m \u001b[32m━━━━━━━━━━━━━━━━━━━━\u001b[0m\u001b[37m\u001b[0m \u001b[1m0s\u001b[0m 503us/step - AUC: 0.4838 - accuracy: 0.7346 - loss: 0.5798\n",
      "Epoch 127/200\n",
      "\u001b[1m88/88\u001b[0m \u001b[32m━━━━━━━━━━━━━━━━━━━━\u001b[0m\u001b[37m\u001b[0m \u001b[1m0s\u001b[0m 497us/step - AUC: 0.5003 - accuracy: 0.7346 - loss: 0.5798\n",
      "Epoch 128/200\n",
      "\u001b[1m88/88\u001b[0m \u001b[32m━━━━━━━━━━━━━━━━━━━━\u001b[0m\u001b[37m\u001b[0m \u001b[1m0s\u001b[0m 494us/step - AUC: 0.4716 - accuracy: 0.7346 - loss: 0.5798\n",
      "Epoch 129/200\n",
      "\u001b[1m88/88\u001b[0m \u001b[32m━━━━━━━━━━━━━━━━━━━━\u001b[0m\u001b[37m\u001b[0m \u001b[1m0s\u001b[0m 507us/step - AUC: 0.4748 - accuracy: 0.7346 - loss: 0.5801\n",
      "Epoch 130/200\n",
      "\u001b[1m88/88\u001b[0m \u001b[32m━━━━━━━━━━━━━━━━━━━━\u001b[0m\u001b[37m\u001b[0m \u001b[1m0s\u001b[0m 494us/step - AUC: 0.4991 - accuracy: 0.7346 - loss: 0.5794\n",
      "Epoch 131/200\n",
      "\u001b[1m88/88\u001b[0m \u001b[32m━━━━━━━━━━━━━━━━━━━━\u001b[0m\u001b[37m\u001b[0m \u001b[1m0s\u001b[0m 497us/step - AUC: 0.4848 - accuracy: 0.7346 - loss: 0.5809\n",
      "Epoch 132/200\n",
      "\u001b[1m88/88\u001b[0m \u001b[32m━━━━━━━━━━━━━━━━━━━━\u001b[0m\u001b[37m\u001b[0m \u001b[1m0s\u001b[0m 502us/step - AUC: 0.4914 - accuracy: 0.7346 - loss: 0.5795\n",
      "Epoch 133/200\n",
      "\u001b[1m88/88\u001b[0m \u001b[32m━━━━━━━━━━━━━━━━━━━━\u001b[0m\u001b[37m\u001b[0m \u001b[1m0s\u001b[0m 497us/step - AUC: 0.4993 - accuracy: 0.7346 - loss: 0.5792\n",
      "Epoch 134/200\n",
      "\u001b[1m88/88\u001b[0m \u001b[32m━━━━━━━━━━━━━━━━━━━━\u001b[0m\u001b[37m\u001b[0m \u001b[1m0s\u001b[0m 497us/step - AUC: 0.4903 - accuracy: 0.7346 - loss: 0.5795\n",
      "Epoch 135/200\n",
      "\u001b[1m88/88\u001b[0m \u001b[32m━━━━━━━━━━━━━━━━━━━━\u001b[0m\u001b[37m\u001b[0m \u001b[1m0s\u001b[0m 491us/step - AUC: 0.4830 - accuracy: 0.7346 - loss: 0.5803\n",
      "Epoch 136/200\n",
      "\u001b[1m88/88\u001b[0m \u001b[32m━━━━━━━━━━━━━━━━━━━━\u001b[0m\u001b[37m\u001b[0m \u001b[1m0s\u001b[0m 489us/step - AUC: 0.4998 - accuracy: 0.7346 - loss: 0.5792\n",
      "Epoch 137/200\n",
      "\u001b[1m88/88\u001b[0m \u001b[32m━━━━━━━━━━━━━━━━━━━━\u001b[0m\u001b[37m\u001b[0m \u001b[1m0s\u001b[0m 495us/step - AUC: 0.5007 - accuracy: 0.7346 - loss: 0.5792\n",
      "Epoch 138/200\n",
      "\u001b[1m88/88\u001b[0m \u001b[32m━━━━━━━━━━━━━━━━━━━━\u001b[0m\u001b[37m\u001b[0m \u001b[1m0s\u001b[0m 553us/step - AUC: 0.4883 - accuracy: 0.7346 - loss: 0.5798\n",
      "Epoch 139/200\n",
      "\u001b[1m88/88\u001b[0m \u001b[32m━━━━━━━━━━━━━━━━━━━━\u001b[0m\u001b[37m\u001b[0m \u001b[1m0s\u001b[0m 494us/step - AUC: 0.4968 - accuracy: 0.7346 - loss: 0.5797\n",
      "Epoch 140/200\n",
      "\u001b[1m88/88\u001b[0m \u001b[32m━━━━━━━━━━━━━━━━━━━━\u001b[0m\u001b[37m\u001b[0m \u001b[1m0s\u001b[0m 498us/step - AUC: 0.4730 - accuracy: 0.7346 - loss: 0.5804\n",
      "Epoch 141/200\n",
      "\u001b[1m88/88\u001b[0m \u001b[32m━━━━━━━━━━━━━━━━━━━━\u001b[0m\u001b[37m\u001b[0m \u001b[1m0s\u001b[0m 498us/step - AUC: 0.4902 - accuracy: 0.7346 - loss: 0.5799\n",
      "Epoch 142/200\n",
      "\u001b[1m88/88\u001b[0m \u001b[32m━━━━━━━━━━━━━━━━━━━━\u001b[0m\u001b[37m\u001b[0m \u001b[1m0s\u001b[0m 502us/step - AUC: 0.5043 - accuracy: 0.7346 - loss: 0.5791\n",
      "Epoch 143/200\n",
      "\u001b[1m88/88\u001b[0m \u001b[32m━━━━━━━━━━━━━━━━━━━━\u001b[0m\u001b[37m\u001b[0m \u001b[1m0s\u001b[0m 500us/step - AUC: 0.4898 - accuracy: 0.7346 - loss: 0.5805\n",
      "Epoch 144/200\n",
      "\u001b[1m88/88\u001b[0m \u001b[32m━━━━━━━━━━━━━━━━━━━━\u001b[0m\u001b[37m\u001b[0m \u001b[1m0s\u001b[0m 507us/step - AUC: 0.5252 - accuracy: 0.7346 - loss: 0.5785\n",
      "Epoch 145/200\n",
      "\u001b[1m88/88\u001b[0m \u001b[32m━━━━━━━━━━━━━━━━━━━━\u001b[0m\u001b[37m\u001b[0m \u001b[1m0s\u001b[0m 495us/step - AUC: 0.4873 - accuracy: 0.7346 - loss: 0.5801\n",
      "Epoch 146/200\n",
      "\u001b[1m88/88\u001b[0m \u001b[32m━━━━━━━━━━━━━━━━━━━━\u001b[0m\u001b[37m\u001b[0m \u001b[1m0s\u001b[0m 507us/step - AUC: 0.5111 - accuracy: 0.7346 - loss: 0.5788\n",
      "Epoch 147/200\n",
      "\u001b[1m88/88\u001b[0m \u001b[32m━━━━━━━━━━━━━━━━━━━━\u001b[0m\u001b[37m\u001b[0m \u001b[1m0s\u001b[0m 501us/step - AUC: 0.4818 - accuracy: 0.7346 - loss: 0.5797\n",
      "Epoch 148/200\n",
      "\u001b[1m88/88\u001b[0m \u001b[32m━━━━━━━━━━━━━━━━━━━━\u001b[0m\u001b[37m\u001b[0m \u001b[1m0s\u001b[0m 497us/step - AUC: 0.4946 - accuracy: 0.7346 - loss: 0.5798\n",
      "Epoch 149/200\n",
      "\u001b[1m88/88\u001b[0m \u001b[32m━━━━━━━━━━━━━━━━━━━━\u001b[0m\u001b[37m\u001b[0m \u001b[1m0s\u001b[0m 495us/step - AUC: 0.5056 - accuracy: 0.7346 - loss: 0.5794\n",
      "Epoch 150/200\n",
      "\u001b[1m88/88\u001b[0m \u001b[32m━━━━━━━━━━━━━━━━━━━━\u001b[0m\u001b[37m\u001b[0m \u001b[1m0s\u001b[0m 501us/step - AUC: 0.4917 - accuracy: 0.7346 - loss: 0.5796\n",
      "Epoch 151/200\n",
      "\u001b[1m88/88\u001b[0m \u001b[32m━━━━━━━━━━━━━━━━━━━━\u001b[0m\u001b[37m\u001b[0m \u001b[1m0s\u001b[0m 501us/step - AUC: 0.5158 - accuracy: 0.7346 - loss: 0.5786\n",
      "Epoch 152/200\n",
      "\u001b[1m88/88\u001b[0m \u001b[32m━━━━━━━━━━━━━━━━━━━━\u001b[0m\u001b[37m\u001b[0m \u001b[1m0s\u001b[0m 498us/step - AUC: 0.4846 - accuracy: 0.7346 - loss: 0.5793\n",
      "Epoch 153/200\n",
      "\u001b[1m88/88\u001b[0m \u001b[32m━━━━━━━━━━━━━━━━━━━━\u001b[0m\u001b[37m\u001b[0m \u001b[1m0s\u001b[0m 500us/step - AUC: 0.4948 - accuracy: 0.7346 - loss: 0.5792\n",
      "Epoch 154/200\n",
      "\u001b[1m88/88\u001b[0m \u001b[32m━━━━━━━━━━━━━━━━━━━━\u001b[0m\u001b[37m\u001b[0m \u001b[1m0s\u001b[0m 500us/step - AUC: 0.4928 - accuracy: 0.7346 - loss: 0.5803\n",
      "Epoch 155/200\n",
      "\u001b[1m88/88\u001b[0m \u001b[32m━━━━━━━━━━━━━━━━━━━━\u001b[0m\u001b[37m\u001b[0m \u001b[1m0s\u001b[0m 503us/step - AUC: 0.5039 - accuracy: 0.7346 - loss: 0.5793\n",
      "Epoch 156/200\n",
      "\u001b[1m88/88\u001b[0m \u001b[32m━━━━━━━━━━━━━━━━━━━━\u001b[0m\u001b[37m\u001b[0m \u001b[1m0s\u001b[0m 505us/step - AUC: 0.4968 - accuracy: 0.7346 - loss: 0.5795\n",
      "Epoch 157/200\n",
      "\u001b[1m88/88\u001b[0m \u001b[32m━━━━━━━━━━━━━━━━━━━━\u001b[0m\u001b[37m\u001b[0m \u001b[1m0s\u001b[0m 501us/step - AUC: 0.5041 - accuracy: 0.7346 - loss: 0.5796\n",
      "Epoch 158/200\n",
      "\u001b[1m88/88\u001b[0m \u001b[32m━━━━━━━━━━━━━━━━━━━━\u001b[0m\u001b[37m\u001b[0m \u001b[1m0s\u001b[0m 494us/step - AUC: 0.4955 - accuracy: 0.7346 - loss: 0.5792\n",
      "Epoch 159/200\n",
      "\u001b[1m88/88\u001b[0m \u001b[32m━━━━━━━━━━━━━━━━━━━━\u001b[0m\u001b[37m\u001b[0m \u001b[1m0s\u001b[0m 497us/step - AUC: 0.4889 - accuracy: 0.7346 - loss: 0.5798\n",
      "Epoch 160/200\n",
      "\u001b[1m88/88\u001b[0m \u001b[32m━━━━━━━━━━━━━━━━━━━━\u001b[0m\u001b[37m\u001b[0m \u001b[1m0s\u001b[0m 543us/step - AUC: 0.4939 - accuracy: 0.7346 - loss: 0.5794\n",
      "Epoch 161/200\n",
      "\u001b[1m88/88\u001b[0m \u001b[32m━━━━━━━━━━━━━━━━━━━━\u001b[0m\u001b[37m\u001b[0m \u001b[1m0s\u001b[0m 501us/step - AUC: 0.5041 - accuracy: 0.7346 - loss: 0.5791\n",
      "Epoch 162/200\n",
      "\u001b[1m88/88\u001b[0m \u001b[32m━━━━━━━━━━━━━━━━━━━━\u001b[0m\u001b[37m\u001b[0m \u001b[1m0s\u001b[0m 812us/step - AUC: 0.4883 - accuracy: 0.7346 - loss: 0.5797\n",
      "Epoch 163/200\n",
      "\u001b[1m88/88\u001b[0m \u001b[32m━━━━━━━━━━━━━━━━━━━━\u001b[0m\u001b[37m\u001b[0m \u001b[1m0s\u001b[0m 498us/step - AUC: 0.4967 - accuracy: 0.7346 - loss: 0.5797\n",
      "Epoch 164/200\n",
      "\u001b[1m88/88\u001b[0m \u001b[32m━━━━━━━━━━━━━━━━━━━━\u001b[0m\u001b[37m\u001b[0m \u001b[1m0s\u001b[0m 499us/step - AUC: 0.4821 - accuracy: 0.7346 - loss: 0.5795\n",
      "Epoch 165/200\n",
      "\u001b[1m88/88\u001b[0m \u001b[32m━━━━━━━━━━━━━━━━━━━━\u001b[0m\u001b[37m\u001b[0m \u001b[1m0s\u001b[0m 495us/step - AUC: 0.4897 - accuracy: 0.7346 - loss: 0.5797\n",
      "Epoch 166/200\n",
      "\u001b[1m88/88\u001b[0m \u001b[32m━━━━━━━━━━━━━━━━━━━━\u001b[0m\u001b[37m\u001b[0m \u001b[1m0s\u001b[0m 496us/step - AUC: 0.4926 - accuracy: 0.7346 - loss: 0.5799\n",
      "Epoch 167/200\n",
      "\u001b[1m88/88\u001b[0m \u001b[32m━━━━━━━━━━━━━━━━━━━━\u001b[0m\u001b[37m\u001b[0m \u001b[1m0s\u001b[0m 494us/step - AUC: 0.5008 - accuracy: 0.7346 - loss: 0.5803\n",
      "Epoch 168/200\n",
      "\u001b[1m88/88\u001b[0m \u001b[32m━━━━━━━━━━━━━━━━━━━━\u001b[0m\u001b[37m\u001b[0m \u001b[1m0s\u001b[0m 497us/step - AUC: 0.5079 - accuracy: 0.7346 - loss: 0.5790\n",
      "Epoch 169/200\n",
      "\u001b[1m88/88\u001b[0m \u001b[32m━━━━━━━━━━━━━━━━━━━━\u001b[0m\u001b[37m\u001b[0m \u001b[1m0s\u001b[0m 499us/step - AUC: 0.4943 - accuracy: 0.7346 - loss: 0.5797\n",
      "Epoch 170/200\n",
      "\u001b[1m88/88\u001b[0m \u001b[32m━━━━━━━━━━━━━━━━━━━━\u001b[0m\u001b[37m\u001b[0m \u001b[1m0s\u001b[0m 500us/step - AUC: 0.4904 - accuracy: 0.7346 - loss: 0.5796\n",
      "Epoch 171/200\n",
      "\u001b[1m88/88\u001b[0m \u001b[32m━━━━━━━━━━━━━━━━━━━━\u001b[0m\u001b[37m\u001b[0m \u001b[1m0s\u001b[0m 497us/step - AUC: 0.4905 - accuracy: 0.7346 - loss: 0.5799\n",
      "Epoch 172/200\n",
      "\u001b[1m88/88\u001b[0m \u001b[32m━━━━━━━━━━━━━━━━━━━━\u001b[0m\u001b[37m\u001b[0m \u001b[1m0s\u001b[0m 498us/step - AUC: 0.5007 - accuracy: 0.7346 - loss: 0.5796\n",
      "Epoch 173/200\n",
      "\u001b[1m88/88\u001b[0m \u001b[32m━━━━━━━━━━━━━━━━━━━━\u001b[0m\u001b[37m\u001b[0m \u001b[1m0s\u001b[0m 496us/step - AUC: 0.5017 - accuracy: 0.7346 - loss: 0.5798\n",
      "Epoch 174/200\n",
      "\u001b[1m88/88\u001b[0m \u001b[32m━━━━━━━━━━━━━━━━━━━━\u001b[0m\u001b[37m\u001b[0m \u001b[1m0s\u001b[0m 500us/step - AUC: 0.4968 - accuracy: 0.7346 - loss: 0.5795\n",
      "Epoch 175/200\n",
      "\u001b[1m88/88\u001b[0m \u001b[32m━━━━━━━━━━━━━━━━━━━━\u001b[0m\u001b[37m\u001b[0m \u001b[1m0s\u001b[0m 500us/step - AUC: 0.4933 - accuracy: 0.7346 - loss: 0.5792\n",
      "Epoch 176/200\n",
      "\u001b[1m88/88\u001b[0m \u001b[32m━━━━━━━━━━━━━━━━━━━━\u001b[0m\u001b[37m\u001b[0m \u001b[1m0s\u001b[0m 500us/step - AUC: 0.4966 - accuracy: 0.7346 - loss: 0.5798\n",
      "Epoch 177/200\n",
      "\u001b[1m88/88\u001b[0m \u001b[32m━━━━━━━━━━━━━━━━━━━━\u001b[0m\u001b[37m\u001b[0m \u001b[1m0s\u001b[0m 502us/step - AUC: 0.5092 - accuracy: 0.7346 - loss: 0.5790\n",
      "Epoch 178/200\n",
      "\u001b[1m88/88\u001b[0m \u001b[32m━━━━━━━━━━━━━━━━━━━━\u001b[0m\u001b[37m\u001b[0m \u001b[1m0s\u001b[0m 496us/step - AUC: 0.4803 - accuracy: 0.7346 - loss: 0.5795\n",
      "Epoch 179/200\n",
      "\u001b[1m88/88\u001b[0m \u001b[32m━━━━━━━━━━━━━━━━━━━━\u001b[0m\u001b[37m\u001b[0m \u001b[1m0s\u001b[0m 504us/step - AUC: 0.4916 - accuracy: 0.7346 - loss: 0.5798\n",
      "Epoch 180/200\n",
      "\u001b[1m88/88\u001b[0m \u001b[32m━━━━━━━━━━━━━━━━━━━━\u001b[0m\u001b[37m\u001b[0m \u001b[1m0s\u001b[0m 497us/step - AUC: 0.4971 - accuracy: 0.7346 - loss: 0.5793\n",
      "Epoch 181/200\n",
      "\u001b[1m88/88\u001b[0m \u001b[32m━━━━━━━━━━━━━━━━━━━━\u001b[0m\u001b[37m\u001b[0m \u001b[1m0s\u001b[0m 497us/step - AUC: 0.5049 - accuracy: 0.7346 - loss: 0.5792\n",
      "Epoch 182/200\n",
      "\u001b[1m88/88\u001b[0m \u001b[32m━━━━━━━━━━━━━━━━━━━━\u001b[0m\u001b[37m\u001b[0m \u001b[1m0s\u001b[0m 495us/step - AUC: 0.4950 - accuracy: 0.7346 - loss: 0.5799\n",
      "Epoch 183/200\n",
      "\u001b[1m88/88\u001b[0m \u001b[32m━━━━━━━━━━━━━━━━━━━━\u001b[0m\u001b[37m\u001b[0m \u001b[1m0s\u001b[0m 497us/step - AUC: 0.5015 - accuracy: 0.7346 - loss: 0.5793\n",
      "Epoch 184/200\n",
      "\u001b[1m88/88\u001b[0m \u001b[32m━━━━━━━━━━━━━━━━━━━━\u001b[0m\u001b[37m\u001b[0m \u001b[1m0s\u001b[0m 545us/step - AUC: 0.4901 - accuracy: 0.7346 - loss: 0.5796\n",
      "Epoch 185/200\n",
      "\u001b[1m88/88\u001b[0m \u001b[32m━━━━━━━━━━━━━━━━━━━━\u001b[0m\u001b[37m\u001b[0m \u001b[1m0s\u001b[0m 502us/step - AUC: 0.4925 - accuracy: 0.7346 - loss: 0.5796\n",
      "Epoch 186/200\n",
      "\u001b[1m88/88\u001b[0m \u001b[32m━━━━━━━━━━━━━━━━━━━━\u001b[0m\u001b[37m\u001b[0m \u001b[1m0s\u001b[0m 497us/step - AUC: 0.4903 - accuracy: 0.7346 - loss: 0.5799\n",
      "Epoch 187/200\n",
      "\u001b[1m88/88\u001b[0m \u001b[32m━━━━━━━━━━━━━━━━━━━━\u001b[0m\u001b[37m\u001b[0m \u001b[1m0s\u001b[0m 508us/step - AUC: 0.4998 - accuracy: 0.7346 - loss: 0.5795\n",
      "Epoch 188/200\n",
      "\u001b[1m88/88\u001b[0m \u001b[32m━━━━━━━━━━━━━━━━━━━━\u001b[0m\u001b[37m\u001b[0m \u001b[1m0s\u001b[0m 500us/step - AUC: 0.4973 - accuracy: 0.7346 - loss: 0.5797\n",
      "Epoch 189/200\n",
      "\u001b[1m88/88\u001b[0m \u001b[32m━━━━━━━━━━━━━━━━━━━━\u001b[0m\u001b[37m\u001b[0m \u001b[1m0s\u001b[0m 497us/step - AUC: 0.4954 - accuracy: 0.7346 - loss: 0.5795\n",
      "Epoch 190/200\n",
      "\u001b[1m88/88\u001b[0m \u001b[32m━━━━━━━━━━━━━━━━━━━━\u001b[0m\u001b[37m\u001b[0m \u001b[1m0s\u001b[0m 494us/step - AUC: 0.5101 - accuracy: 0.7346 - loss: 0.5785\n",
      "Epoch 191/200\n",
      "\u001b[1m88/88\u001b[0m \u001b[32m━━━━━━━━━━━━━━━━━━━━\u001b[0m\u001b[37m\u001b[0m \u001b[1m0s\u001b[0m 498us/step - AUC: 0.5041 - accuracy: 0.7346 - loss: 0.5797\n",
      "Epoch 192/200\n",
      "\u001b[1m88/88\u001b[0m \u001b[32m━━━━━━━━━━━━━━━━━━━━\u001b[0m\u001b[37m\u001b[0m \u001b[1m0s\u001b[0m 498us/step - AUC: 0.4991 - accuracy: 0.7346 - loss: 0.5793\n",
      "Epoch 193/200\n",
      "\u001b[1m88/88\u001b[0m \u001b[32m━━━━━━━━━━━━━━━━━━━━\u001b[0m\u001b[37m\u001b[0m \u001b[1m0s\u001b[0m 494us/step - AUC: 0.4931 - accuracy: 0.7346 - loss: 0.5793\n",
      "Epoch 194/200\n",
      "\u001b[1m88/88\u001b[0m \u001b[32m━━━━━━━━━━━━━━━━━━━━\u001b[0m\u001b[37m\u001b[0m \u001b[1m0s\u001b[0m 503us/step - AUC: 0.5130 - accuracy: 0.7346 - loss: 0.5799\n",
      "Epoch 195/200\n",
      "\u001b[1m88/88\u001b[0m \u001b[32m━━━━━━━━━━━━━━━━━━━━\u001b[0m\u001b[37m\u001b[0m \u001b[1m0s\u001b[0m 513us/step - AUC: 0.4897 - accuracy: 0.7346 - loss: 0.5799\n",
      "Epoch 196/200\n",
      "\u001b[1m88/88\u001b[0m \u001b[32m━━━━━━━━━━━━━━━━━━━━\u001b[0m\u001b[37m\u001b[0m \u001b[1m0s\u001b[0m 501us/step - AUC: 0.5014 - accuracy: 0.7346 - loss: 0.5795\n",
      "Epoch 197/200\n",
      "\u001b[1m88/88\u001b[0m \u001b[32m━━━━━━━━━━━━━━━━━━━━\u001b[0m\u001b[37m\u001b[0m \u001b[1m0s\u001b[0m 495us/step - AUC: 0.4730 - accuracy: 0.7346 - loss: 0.5797\n",
      "Epoch 198/200\n",
      "\u001b[1m88/88\u001b[0m \u001b[32m━━━━━━━━━━━━━━━━━━━━\u001b[0m\u001b[37m\u001b[0m \u001b[1m0s\u001b[0m 815us/step - AUC: 0.4978 - accuracy: 0.7346 - loss: 0.5794\n",
      "Epoch 199/200\n",
      "\u001b[1m88/88\u001b[0m \u001b[32m━━━━━━━━━━━━━━━━━━━━\u001b[0m\u001b[37m\u001b[0m \u001b[1m0s\u001b[0m 500us/step - AUC: 0.5065 - accuracy: 0.7346 - loss: 0.5793\n",
      "Epoch 200/200\n",
      "\u001b[1m88/88\u001b[0m \u001b[32m━━━━━━━━━━━━━━━━━━━━\u001b[0m\u001b[37m\u001b[0m \u001b[1m0s\u001b[0m 501us/step - AUC: 0.4881 - accuracy: 0.7346 - loss: 0.5800\n"
     ]
    },
    {
     "data": {
      "text/plain": [
       "<keras.src.callbacks.history.History at 0x1743097e0>"
      ]
     },
     "execution_count": 26,
     "metadata": {},
     "output_type": "execute_result"
    }
   ],
   "source": [
    "model.fit(X_train, y_train, epochs=200, batch_size=64)"
   ]
  },
  {
   "cell_type": "code",
   "execution_count": 12,
   "metadata": {},
   "outputs": [
    {
     "name": "stdout",
     "output_type": "stream",
     "text": [
      "\u001b[1m45/45\u001b[0m \u001b[32m━━━━━━━━━━━━━━━━━━━━\u001b[0m\u001b[37m\u001b[0m \u001b[1m0s\u001b[0m 834us/step\n"
     ]
    }
   ],
   "source": [
    "y_hat = model.predict(X_test)\n",
    "y_hat = [0 if val < 0.5 else 1 for val in y_hat]"
   ]
  },
  {
   "cell_type": "code",
   "execution_count": 13,
   "metadata": {},
   "outputs": [
    {
     "data": {
      "text/plain": [
       "0.751596877217885"
      ]
     },
     "execution_count": 13,
     "metadata": {},
     "output_type": "execute_result"
    }
   ],
   "source": [
    "accuracy_score(y_test, y_hat)"
   ]
  },
  {
   "cell_type": "markdown",
   "metadata": {},
   "source": [
    "# 4. Saving and Reloading"
   ]
  },
  {
   "cell_type": "code",
   "execution_count": 15,
   "metadata": {
    "collapsed": true
   },
   "outputs": [],
   "source": [
    "model.save('tfmodel.keras')"
   ]
  },
  {
   "cell_type": "code",
   "execution_count": 16,
   "metadata": {},
   "outputs": [],
   "source": [
    "del model "
   ]
  },
  {
   "cell_type": "code",
   "execution_count": 18,
   "metadata": {},
   "outputs": [],
   "source": [
    "model = load_model('tfmodel.keras')"
   ]
  }
 ],
 "metadata": {
  "kernelspec": {
   "display_name": "Python (dsbi-tf)",
   "language": "python",
   "name": "dsbi-tf"
  },
  "language_info": {
   "codemirror_mode": {
    "name": "ipython",
    "version": 3
   },
   "file_extension": ".py",
   "mimetype": "text/x-python",
   "name": "python",
   "nbconvert_exporter": "python",
   "pygments_lexer": "ipython3",
   "version": "3.10.17"
  }
 },
 "nbformat": 4,
 "nbformat_minor": 2
}
